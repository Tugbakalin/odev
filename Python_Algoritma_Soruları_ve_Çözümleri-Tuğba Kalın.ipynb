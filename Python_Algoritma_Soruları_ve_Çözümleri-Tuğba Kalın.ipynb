{
  "nbformat": 4,
  "nbformat_minor": 0,
  "metadata": {
    "colab": {
      "provenance": []
    },
    "kernelspec": {
      "name": "python3",
      "display_name": "Python 3"
    },
    "language_info": {
      "name": "python"
    }
  },
  "cells": [
    {
      "cell_type": "code",
      "execution_count": 4,
      "metadata": {
        "colab": {
          "base_uri": "https://localhost:8080/"
        },
        "id": "0WnZCSDyU4cU",
        "outputId": "d97bbc7a-dea2-407a-bc08-ab873ba679ef"
      },
      "outputs": [
        {
          "output_type": "stream",
          "name": "stdout",
          "text": [
            "5\n"
          ]
        }
      ],
      "source": [
        "def en_buyuk_sayi(liste):\n",
        "    return max(liste)\n",
        "print(en_buyuk_sayi([1, 2, 3, 4, 5]))"
      ]
    },
    {
      "cell_type": "code",
      "source": [
        "isim = (\"Tuğba\")\n",
        "ters_isim = isim[::-1]\n",
        "print(ters_isim)"
      ],
      "metadata": {
        "colab": {
          "base_uri": "https://localhost:8080/"
        },
        "id": "zyeAuu-Fbpot",
        "outputId": "a52d16ba-0d7c-4dcd-fb75-08ee9b770a10"
      },
      "execution_count": 23,
      "outputs": [
        {
          "output_type": "stream",
          "name": "stdout",
          "text": [
            "abğuT\n"
          ]
        }
      ]
    },
    {
      "cell_type": "code",
      "source": [
        "def fak(sayi):\n",
        "    if sayi == 0 or sayi == 1:\n",
        "        return 1\n",
        "    else:\n",
        "        return sayi * fak(sayi-1)\n",
        "\n",
        "sayi = int(input(\"Bir sayi giriniz: \"))\n",
        "fak_sayi = fak(sayi)\n",
        "print(fak_sayi)"
      ],
      "metadata": {
        "colab": {
          "base_uri": "https://localhost:8080/"
        },
        "id": "1xw8M9CFckK6",
        "outputId": "0437b110-7420-49f4-ead1-7f54790226b9"
      },
      "execution_count": 31,
      "outputs": [
        {
          "output_type": "stream",
          "name": "stdout",
          "text": [
            "Bir sayi giriniz: 5\n",
            "120\n"
          ]
        }
      ]
    },
    {
      "cell_type": "code",
      "source": [
        "liste = [1,2,3,4,5]\n",
        "cift_sayi = [i for i in liste if i % 2 == 0]\n",
        "tek_sayi = [i for i in liste if i % 2 != 0]\n",
        "print(f\"Liste içerisindeki çift sayılar : {cift_sayi}\\nListe içerisindeki tek sayılar : {tek_sayi}\")"
      ],
      "metadata": {
        "colab": {
          "base_uri": "https://localhost:8080/"
        },
        "id": "yJG0KlkGgk_g",
        "outputId": "3142aa45-3091-40c1-a749-c683e8058493"
      },
      "execution_count": 41,
      "outputs": [
        {
          "output_type": "stream",
          "name": "stdout",
          "text": [
            "Liste içerisindeki çift sayılar : [2, 4]\n",
            "Liste içerisindeki tek sayılar : [1, 3, 5]\n"
          ]
        }
      ]
    },
    {
      "cell_type": "code",
      "source": [
        "liste1 = [1,2,3]\n",
        "liste2 = [4,5]\n",
        "liste3 = liste1 + liste2\n",
        "print(liste3)\n",
        "liste4 = []\n",
        "liste5 = liste1 +liste4\n",
        "print(liste5)\n",
        "liste6 = [1,2,4]\n",
        "liste7 = liste1 + liste6\n",
        "print(set(liste7))"
      ],
      "metadata": {
        "colab": {
          "base_uri": "https://localhost:8080/"
        },
        "id": "mOk4NSCYj5Jy",
        "outputId": "591e008b-4a24-426a-eb33-43d0ee42d5b1"
      },
      "execution_count": 48,
      "outputs": [
        {
          "output_type": "stream",
          "name": "stdout",
          "text": [
            "[1, 2, 3, 4, 5]\n",
            "[1, 2, 3]\n",
            "{1, 2, 3, 4}\n"
          ]
        }
      ]
    },
    {
      "cell_type": "code",
      "source": [
        "list1 = [\"iki\"]\n",
        "list2 = [\"iki\"]\n",
        "if list1 == list2[::-1]:\n",
        "  print(\"True\")\n",
        "else:\n",
        "  print(\"False\")\n",
        "\n",
        "list1 = [\"iki\"]\n",
        "list2 = [\"üç\"]\n",
        "if list1 == list2[::-1]:\n",
        "  print(\"True\")\n",
        "else:\n",
        "  print(\"False\")\n",
        ""
      ],
      "metadata": {
        "colab": {
          "base_uri": "https://localhost:8080/"
        },
        "id": "i7yIpu4H4GxT",
        "outputId": "a198ddcc-539d-4609-d13f-d380353a1249"
      },
      "execution_count": 52,
      "outputs": [
        {
          "output_type": "stream",
          "name": "stdout",
          "text": [
            "True\n",
            "False\n"
          ]
        }
      ]
    },
    {
      "cell_type": "code",
      "source": [
        "def ebob(a, b):\n",
        "    while b != 0:\n",
        "        a, b = b, a % b\n",
        "    return a\n",
        "print(ebob(36, 60))\n",
        "\n",
        "\"\"\" (36,60) = 60,36 = (60,36) = 36,24 = (36,24)= 24,12 = (24,12) = 12, 0 \"\"\"\n",
        "\n",
        "def ebob(a, b):\n",
        "    while b != 0:\n",
        "        a, b = b, a % b\n",
        "    return a\n",
        "print(ebob(18, 30))\n",
        "\n",
        "\"\"\" (18,30) = 30,18 = (30,18) = 18,12 = (18,12) = 12,6 = (12,6) = 6,0 \"\"\""
      ],
      "metadata": {
        "colab": {
          "base_uri": "https://localhost:8080/",
          "height": 70
        },
        "id": "Mp8GLpxX8hXf",
        "outputId": "b64802d7-c9df-42df-b925-52a2dadcf272"
      },
      "execution_count": 56,
      "outputs": [
        {
          "output_type": "stream",
          "name": "stdout",
          "text": [
            "12\n",
            "6\n"
          ]
        },
        {
          "output_type": "execute_result",
          "data": {
            "text/plain": [
              "' (18,30) = 30,18 = (30,18) = 18,12 = (18,12) = 12,6 = (12,6) = 6,0 '"
            ],
            "application/vnd.google.colaboratory.intrinsic+json": {
              "type": "string"
            }
          },
          "metadata": {},
          "execution_count": 56
        }
      ]
    },
    {
      "cell_type": "code",
      "source": [
        "liste1 = (\"Tuğba\")\n",
        "liste2 = (\"Tuğab\")\n",
        "if sorted(liste1) == sorted(liste2):\n",
        "    print(\"True\")\n",
        "else:\n",
        "    print(\"False\")\n",
        "\n",
        "liste1 = (\"Tuğba\")\n",
        "liste2 = (\"Tuğac\")\n",
        "if sorted(liste1) == sorted(liste2):\n",
        "    print(\"True\")\n",
        "else:\n",
        "    print(\"False\")"
      ],
      "metadata": {
        "colab": {
          "base_uri": "https://localhost:8080/"
        },
        "id": "x2HxU-p8-DnC",
        "outputId": "4df915df-3441-4ea7-adfd-2e885ae71f64"
      },
      "execution_count": 65,
      "outputs": [
        {
          "output_type": "stream",
          "name": "stdout",
          "text": [
            "True\n",
            "False\n"
          ]
        }
      ]
    },
    {
      "cell_type": "code",
      "source": [
        "liste = [1,2,4,5]\n",
        "n = max(liste)\n",
        "toplam = n * (n + 1) // 2\n",
        "list_toplam = sum(liste)\n",
        "eksik = toplam - list_toplam\n",
        "print(eksik)"
      ],
      "metadata": {
        "colab": {
          "base_uri": "https://localhost:8080/"
        },
        "id": "gOsBYgMqCaJs",
        "outputId": "124b5554-f339-4c4b-bf68-f15396203678"
      },
      "execution_count": 70,
      "outputs": [
        {
          "output_type": "stream",
          "name": "stdout",
          "text": [
            "3\n"
          ]
        }
      ]
    },
    {
      "cell_type": "code",
      "source": [
        "liste = [1,2,3,4,5]\n",
        "n = int(input(\"Bir sayı giriniz\"))\n",
        "yeni_liste = liste[-n:] + liste[:-n]\n",
        "print(yeni_liste)"
      ],
      "metadata": {
        "colab": {
          "base_uri": "https://localhost:8080/"
        },
        "id": "nrcfCMZygAQk",
        "outputId": "866c253e-fa77-486d-f29d-c0a05349595d"
      },
      "execution_count": 81,
      "outputs": [
        {
          "output_type": "stream",
          "name": "stdout",
          "text": [
            "Bir sayı giriniz2\n",
            "[4, 5, 1, 2, 3]\n"
          ]
        }
      ]
    },
    {
      "cell_type": "code",
      "source": [
        "list1 = [1,2]\n",
        "list2 = [3,4]\n",
        "list3 = (list1 + list2)\n",
        "Toplam = sum(list3)\n",
        "n = len(list3)\n",
        "median = float(Toplam / n)\n",
        "\n",
        "print(float(median))"
      ],
      "metadata": {
        "colab": {
          "base_uri": "https://localhost:8080/"
        },
        "id": "FHr-311Oh2-2",
        "outputId": "29093b32-1927-42cb-ae88-9713e01ba968"
      },
      "execution_count": 92,
      "outputs": [
        {
          "output_type": "stream",
          "name": "stdout",
          "text": [
            "2.5\n"
          ]
        }
      ]
    },
    {
      "cell_type": "code",
      "source": [
        "çok karışık geldi hocam 12.soru :)\n"
      ],
      "metadata": {
        "id": "rCE1iJKwozqx"
      },
      "execution_count": null,
      "outputs": []
    },
    {
      "cell_type": "code",
      "source": [
        "13.ü anlamadım ikinci örneği"
      ],
      "metadata": {
        "id": "ZPRWnWeQugHm"
      },
      "execution_count": null,
      "outputs": []
    },
    {
      "cell_type": "code",
      "source": [
        "14. mantığı anladım ama kendim yazdıramadım"
      ],
      "metadata": {
        "id": "rjtLaZnGwMO9"
      },
      "execution_count": null,
      "outputs": []
    },
    {
      "cell_type": "code",
      "source": [
        "liste = [[1,4],[4,5]]\n",
        "kontrol1 = liste[0][-1]\n",
        "kontrol2 = liste[1][0]\n",
        "kontrol3 = liste[1][1]\n",
        "if kontrol1 <= kontrol2:\n",
        "  yeni_liste = [kontrol2,kontrol3]\n",
        "  print(yeni_liste)"
      ],
      "metadata": {
        "colab": {
          "base_uri": "https://localhost:8080/"
        },
        "id": "I_nmQYlA42md",
        "outputId": "4d1b2d43-4cd0-4aea-a922-da5f298f5a6f"
      },
      "execution_count": 154,
      "outputs": [
        {
          "output_type": "stream",
          "name": "stdout",
          "text": [
            "[4, 5]\n"
          ]
        }
      ]
    },
    {
      "cell_type": "code",
      "source": [],
      "metadata": {
        "id": "PPDBUNuJ58fK"
      },
      "execution_count": null,
      "outputs": []
    }
  ]
}