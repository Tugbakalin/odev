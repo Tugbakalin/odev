{
  "nbformat": 4,
  "nbformat_minor": 0,
  "metadata": {
    "colab": {
      "provenance": []
    },
    "kernelspec": {
      "name": "python3",
      "display_name": "Python 3"
    },
    "language_info": {
      "name": "python"
    }
  },
  "cells": [
    {
      "cell_type": "code",
      "execution_count": null,
      "metadata": {
        "id": "O3zXtuAlcW0A"
      },
      "outputs": [],
      "source": []
    },
    {
      "cell_type": "markdown",
      "source": [
        "📚 PYTHON TEMELLERİ - DETAYLI KONU ÖZETİ\n",
        "🔹 1. Aritmetik Operatörler\n",
        "Temel Matematiksel İşlemler:\n",
        "\n",
        "+, -, *, / → Temel işlemler\n",
        "\n",
        "// → Tam sayı bölme (aşağı yuvarlar)\n",
        "\n",
        "% → Kalan bulma\n",
        "\n",
        "** → Üs alma\n",
        "\n",
        "Önemli Not: Stringlerle + birleştirme, * tekrarlama yapar.\n",
        "\n",
        "🔹 2. Karşılaştırma Operatörleri\n",
        "Her zaman True veya False döndürür\n",
        "\n",
        "Program akışını kontrol etmek için kullanılır\n",
        "\n",
        "🔹 3. is vs == Farkı\n",
        "== → Değer karşılaştırması\n",
        "\n",
        "is → Bellek adresi karşılaştırması\n",
        "\n",
        "Küçük sayılar için Python optimize eder (-5 ile 256 arası)\n",
        "\n",
        "🔹 4. type() ve isinstance()\n",
        "type() → Kesin tür bilgisi\n",
        "\n",
        "isinstance() → Kalıtım durumunda daha esnek\n",
        "\n",
        "🔹 5. İşlem Önceliği\n",
        "PEMDAS kuralı:\n",
        "\n",
        "Parantez\n",
        "\n",
        "Exponents (Üs)\n",
        "\n",
        "Multiplication Division\n",
        "\n",
        "Addition Subtraction\n",
        "\n",
        "🔹 6. Mantıksal Operatörler\n",
        "and → Her iki koşul da True\n",
        "\n",
        "or → En az bir koşul True\n",
        "\n",
        "not → Tersini alır\n",
        "\n",
        "🔹 7. Short-Circuit Değerlendirme\n",
        "Python gereksiz işlemlerden kaçınır\n",
        "\n",
        "Performans optimizasyonu sağlar\n",
        "\n",
        "🔹 8. Karar Yapıları\n",
        "if → Temel koşul\n",
        "\n",
        "elif → Alternatif koşullar\n",
        "\n",
        "else → Diğer tüm durumlar\n",
        "\n",
        "🔹 9. Ternary Operatör\n",
        "Tek satırda koşullu atama\n",
        "\n",
        "Okunabilirliği artırır\n",
        "\n",
        "🔹 10. Tip Dönüşümleri\n",
        "int(), float(), str(), bool()\n",
        "\n",
        "input() her zaman string döndürür\n",
        "\n",
        "🔹 11. Girdi/Çıktı İşlemleri\n",
        "input() → Kullanıcı etkileşimi\n",
        "\n",
        "print() → Çıktı formatlama"
      ],
      "metadata": {
        "id": "tBPymOAtfaOd"
      }
    },
    {
      "cell_type": "code",
      "source": [
        "\"\"\"\n",
        "🔸 SEVİYE 1: Temel Kavramlar\n",
        "Soru 1: Aritmetik İşlemler\n",
        "\"\"\"\n",
        "\n",
        "# Aşağıdaki işlemlerin sonuçlarını tahmin edin:\n",
        "print(15 // 4)     # ? 3\n",
        "print(15 % 4)      # ? 3\n",
        "print(2 ** 5)      # ? 32\n",
        "print(3 + 4 * 2)   # ? 11\n",
        "print((3 + 4) * 2) # ? 14"
      ],
      "metadata": {
        "colab": {
          "base_uri": "https://localhost:8080/"
        },
        "id": "rtgQmYuWfczo",
        "outputId": "6d9ed5f1-decb-4084-df68-b38d6879d52d"
      },
      "execution_count": null,
      "outputs": [
        {
          "output_type": "stream",
          "name": "stdout",
          "text": [
            "3\n",
            "3\n",
            "32\n",
            "11\n",
            "14\n"
          ]
        }
      ]
    },
    {
      "cell_type": "code",
      "source": [
        "#Soru 2: Karşılaştırma Operatörleri\n",
        "x = 10\n",
        "y = 7\n",
        "print(x > y)        # ? True\n",
        "print(x == y)       # ? False\n",
        "print(x != y)       # ? True\n",
        "print(x >= 10)      # ? True"
      ],
      "metadata": {
        "colab": {
          "base_uri": "https://localhost:8080/"
        },
        "id": "x_7M8pPkf9JH",
        "outputId": "2a67e39c-3e23-46eb-d1a9-dfca179ea2a3"
      },
      "execution_count": null,
      "outputs": [
        {
          "output_type": "stream",
          "name": "stdout",
          "text": [
            "True\n",
            "False\n",
            "True\n",
            "True\n"
          ]
        }
      ]
    },
    {
      "cell_type": "code",
      "source": [
        "#Soru 3: is ve == Farkı\n",
        "\n",
        "a = 100\n",
        "b = 100\n",
        "c = 500\n",
        "d = 500\n",
        "\n",
        "print(a is b)       # ? False\n",
        "print(c is d)       # ? False\n",
        "print(a == b)       # ? True\n",
        "print(c == d)       # ? True"
      ],
      "metadata": {
        "id": "2gibsSQvgHdi"
      },
      "execution_count": null,
      "outputs": []
    },
    {
      "cell_type": "code",
      "source": [
        "\"\"\"\n",
        "🔸 SEVİYE 2: Mantıksal Operatörler\n",
        "\n",
        "\"\"\""
      ],
      "metadata": {
        "colab": {
          "base_uri": "https://localhost:8080/",
          "height": 37
        },
        "id": "WfhxBnuqgMi7",
        "outputId": "ed6a247c-fb6e-466c-8dd4-bff3457023cb"
      },
      "execution_count": null,
      "outputs": [
        {
          "output_type": "execute_result",
          "data": {
            "text/plain": [
              "'\\n🔸 SEVİYE 2: Mantıksal Operatörler\\n\\n'"
            ],
            "application/vnd.google.colaboratory.intrinsic+json": {
              "type": "string"
            }
          },
          "metadata": {},
          "execution_count": 6
        }
      ]
    },
    {
      "cell_type": "code",
      "source": [
        "#Soru 4: Mantık Soruları\n",
        "x = 15\n",
        "y = 20\n",
        "z = 25\n",
        "\n",
        "print((x < y) and (y < z))          # ? False\n",
        "print((x > y) or (y < z))           # ? True\n",
        "print(not (x == y))                 # ? True\n",
        "print((x < y) and (y > z or x < z)) # ? False"
      ],
      "metadata": {
        "id": "k1vCc-otgRGA"
      },
      "execution_count": null,
      "outputs": []
    },
    {
      "cell_type": "code",
      "source": [
        "\"\"\"\n",
        "🔸 SEVİYE 3: Karar Yapıları\n",
        "\"\"\""
      ],
      "metadata": {
        "id": "teiwuAmsgYBb"
      },
      "execution_count": null,
      "outputs": []
    },
    {
      "cell_type": "code",
      "source": [
        "#Soru 6: İf-elif-else Zinciri\n",
        "notu = 85\n",
        "\n",
        "if notu >= 90:\n",
        "    print(\"AA\")\n",
        "elif notu >= 80:\n",
        "    print(\"BA\")\n",
        "elif notu >= 70:\n",
        "    print(\"BB\")\n",
        "else:\n",
        "    print(\"Kaldı\")\n",
        "# Çıktı ne olur? BA"
      ],
      "metadata": {
        "id": "g78ccOp4geT1"
      },
      "execution_count": null,
      "outputs": []
    },
    {
      "cell_type": "code",
      "source": [],
      "metadata": {
        "id": "zVqky5WzgsFU"
      },
      "execution_count": null,
      "outputs": []
    },
    {
      "cell_type": "code",
      "source": [
        "#Soru 7: İç İçe If Yapısı\n",
        "yas = 20\n",
        "ehliyet = True\n",
        "\n",
        "if yas >= 18:\n",
        "    if ehliyet:\n",
        "        print(\"Araç kullanabilir\")\n",
        "    else:\n",
        "        print(\"Ehliyetiniz yok\")\n",
        "else:\n",
        "    print(\"Yaşınız tutmuyor\")\n",
        "\n",
        "    Araç kullanabilir"
      ],
      "metadata": {
        "id": "Hls7vCwkgj8T"
      },
      "execution_count": null,
      "outputs": []
    },
    {
      "cell_type": "code",
      "source": [
        "#Soru 9: Tip Dönüşümü\n",
        "\n",
        "\n",
        "# Hangi satırlarda hata olur?\n",
        "x = \"15\"- str, sayı olması için int dönüştürmek gerekir\n",
        "y = int(x) + 5 = 20\n",
        "z = float(\"3.14\") = 3.14\n",
        "w = int(\"merhaba\") - int str i sayıya çeviremeyeceği için:) Hata\n",
        "a = bool(0) - False\n",
        "b = bool(\"False\") - True\n",
        "c = str(123) + \"456\" - iki string birleşir, 123456 olur"
      ],
      "metadata": {
        "id": "xPNTeyndgsoH"
      },
      "execution_count": null,
      "outputs": []
    },
    {
      "cell_type": "code",
      "source": [
        "\"\"\"\n",
        "🔸 SEVİYE 5: Girdi/Çıktı ve Uygulamalar\n",
        "\"\"\""
      ],
      "metadata": {
        "id": "xyd2kVF7hB26"
      },
      "execution_count": null,
      "outputs": []
    },
    {
      "cell_type": "code",
      "source": [
        "ad = \"Ali\"\n",
        "yas = 25\n",
        "print(ad, \"bu yıl\", yas, \"yaşında\")      # Varsayılan\n",
        "print(ad + \" bu yıl \" + str(yas) + \" yaşında\")  # String birleştirme\n",
        "print(f\"{ad} bu yıl {yas} yaşında\")      # f-string"
      ],
      "metadata": {
        "id": "nNKS_SzJhFKr",
        "colab": {
          "base_uri": "https://localhost:8080/"
        },
        "outputId": "d48ae6e0-b57b-4115-c36e-83bd0f6ed626"
      },
      "execution_count": 1,
      "outputs": [
        {
          "output_type": "stream",
          "name": "stdout",
          "text": [
            "Ali bu yıl 25 yaşında\n",
            "Ali bu yıl 25 yaşında\n",
            "Ali bu yıl 25 yaşında\n"
          ]
        }
      ]
    },
    {
      "cell_type": "code",
      "source": [
        "#UYGULAMALAR"
      ],
      "metadata": {
        "id": "NdQX1d6fhMNe"
      },
      "execution_count": null,
      "outputs": []
    },
    {
      "cell_type": "code",
      "source": [
        "\"\"\"\n",
        "Bir kullanıcının boyunu (metre cinsinden) ve kilosunu (kilogram cinsinden) alarak Vücut Kitle İndeksi'ni (VKİ) hesaplayan ve buna göre kişinin durumunu belirleyen bir Python programı yazın. Program şu şekilde çalışmalı:\n",
        "\n",
        "Kullanıcıdan boy ve kilo girdilerini alın.\n",
        "VKİ'yi hesaplayın: VKİ = kilo / (boy²).\n",
        "VKİ değerine göre durumu şu kategorilere ayırın:\n",
        "\n",
        "VKİ < 18.5 ise: \"Zayıf\"\n",
        "18.5 ≤ VKİ < 25 ise: \"Normal\"\n",
        "25 ≤ VKİ < 30 ise: \"Fazla kilolu\"\n",
        "VKİ ≥ 30 ise: \"Obez\"\n",
        "\n",
        "\n",
        "Sonucu \"VKİ: x.xx - Durum: [durum]\" formatında ekrana yazdırın (VKİ değeri iki ondalık basamaklı olsun).\n",
        "\"\"\"\n",
        "boy = float(input(\"Boyunuzu giriniz (m): \"))\n",
        "kilo = float(input(\"Kilonuzu giriniz (kg): \"))\n",
        "VKİ = kilo / (boy ** 2)\n",
        "if VKİ < 18.5:\n",
        "  durum = \"Zayıf\"\n",
        "  print(f\"VKİ: {VKİ:.2f} - Durum: {durum}\")\n",
        "elif 18.5 <= VKİ < 25:\n",
        "  durum = \"Normal\"\n",
        "  print(f\"VKİ: {VKİ:.2f} - Durum: {durum}\")\n",
        "elif VKİ < 30 and VKİ >= 25:\n",
        "  durum = \"Fazla kilolu\"\n",
        "  print(f\"VKİ: {VKİ:.2f} - Durum: {durum}\")\n",
        "elif VKİ >= 30:\n",
        "  durum = \"Obez\"\n",
        "  print(f\"VKİ: {VKİ:.2f} - Durum: {durum}\")\n",
        "else:\n",
        "  print(\"Yanlış bir değer girdiniz\")\n",
        "\n",
        "\n",
        "boy = float(input(\"Boyunuz (m): \"))\n",
        "kilo = float(input(\"Kilonuz (kg): \"))\n",
        "\n",
        "vki = kilo / (boy ** 2)\n",
        "\n",
        "if vki < 18.5:\n",
        "    durum = \"Zayıf\"\n",
        "elif vki < 25:\n",
        "    durum = \"Normal\"\n",
        "elif vki < 30:\n",
        "    durum = \"Fazla kilolu\"\n",
        "else:\n",
        "    durum = \"Obez\"\n",
        "\n",
        "print(f\"VKİ: {vki:.2f} - Durum: {durum}\")"
      ],
      "metadata": {
        "id": "XvarW7g6hOO-"
      },
      "execution_count": null,
      "outputs": []
    },
    {
      "cell_type": "code",
      "source": [
        "\"\"\"\n",
        "Bir kullanıcının iki sayı ve bir matematiksel işlem girdisi alarak basit bir hesap makinesi yapan Python programı yazın. Program şu şekilde çalışmalı:\n",
        "\n",
        "Kullanıcıdan \"Birinci sayı: \" sorusuyla birinci sayıyı (float olarak) alın.\n",
        "Kullanıcıdan \"İkinci sayı: \" sorusuyla ikinci sayıyı (float olarak) alın.\n",
        "Kullanıcıdan \"İşlem (+, -, *, /): \" sorusuyla işlemi alın.\n",
        "İşleme göre sonucu hesaplayın:\n",
        "\n",
        "\"+\" ise toplama,\n",
        "\"-\" ise çıkarma,\n",
        "\"*\" ise çarpma,\n",
        "\"/\" ise bölme (ikinci sayı sıfır değilse; sıfırsa \"Hata: Sıfıra bölünemez!\" mesajı verin).\n",
        "\n",
        "\n",
        "Geçersiz işlem girilirse \"Geçersiz işlem\" mesajı verin.\n",
        "Sonucu \"Sonuç: [sonuc]\" formatında ekrana yazdırın.\n",
        "\"\"\"\n",
        "birinci_sayi = float(input(\"Birinci sayiyi giriniz: \"))\n",
        "ikinci_sayi = float(input(\"İkinci sayiyi giriniz: \"))\n",
        "islem = input(\"Yapmak istediğiniz işlemi giriniz (+, -, *, /) : \")\n",
        "if islem == \"+\":\n",
        "  print(\"Sonuc: \", birinci_sayi + ikinci_sayi)\n",
        "  elif islem == \"-\":\n",
        "    print(\"Sonuc: \", birinci_sayi - ikinci_sayi)\n",
        "    elif islem == \"*\":\n",
        "      print(\"Sonuc: \", birinci_sayi * ikinci_sayi)\n",
        "      elif islem == \"/\":\n",
        "        if ikinci_sayi != 0:\n",
        "          print(\"Sonuc: \", birinci_sayi / ikinci_sayi)\n",
        "          else:\n",
        "            print(\"Hata: Sıfıra bölünemez!\")\n",
        "\n",
        "sayi1 = float(input(\"Birinci sayı: \"))\n",
        "sayi2 = float(input(\"İkinci sayı: \"))\n",
        "islem = input(\"İşlem (+, -, *, /): \")\n",
        "\n",
        "if islem == \"+\":\n",
        "    sonuc = sayi1 + sayi2\n",
        "elif islem == \"-\":\n",
        "    sonuc = sayi1 - sayi2\n",
        "elif islem == \"*\":\n",
        "    sonuc = sayi1 * sayi2\n",
        "elif islem == \"/\":\n",
        "    if sayi2 != 0:\n",
        "        sonuc = sayi1 / sayi2\n",
        "    else:\n",
        "        sonuc = \"Hata: Sıfıra bölünemez!\"\n",
        "else:\n",
        "    sonuc = \"Geçersiz işlem\"\n",
        "\n",
        "print(\"Sonuç:\", sonuc)"
      ],
      "metadata": {
        "colab": {
          "base_uri": "https://localhost:8080/",
          "height": 373
        },
        "id": "epO4EQZxhpSz",
        "outputId": "3e6d0a05-0aad-432b-df32-100e99ff5f12"
      },
      "execution_count": null,
      "outputs": [
        {
          "output_type": "error",
          "ename": "KeyboardInterrupt",
          "evalue": "Interrupted by user",
          "traceback": [
            "\u001b[0;31m---------------------------------------------------------------------------\u001b[0m",
            "\u001b[0;31mKeyboardInterrupt\u001b[0m                         Traceback (most recent call last)",
            "\u001b[0;32m/tmp/ipython-input-853205336.py\u001b[0m in \u001b[0;36m<cell line: 0>\u001b[0;34m()\u001b[0m\n\u001b[1;32m     18\u001b[0m \u001b[0;34m\u001b[0m\u001b[0m\n\u001b[1;32m     19\u001b[0m \u001b[0;34m\u001b[0m\u001b[0m\n\u001b[0;32m---> 20\u001b[0;31m \u001b[0msayi1\u001b[0m \u001b[0;34m=\u001b[0m \u001b[0mfloat\u001b[0m\u001b[0;34m(\u001b[0m\u001b[0minput\u001b[0m\u001b[0;34m(\u001b[0m\u001b[0;34m\"Birinci sayı: \"\u001b[0m\u001b[0;34m)\u001b[0m\u001b[0;34m)\u001b[0m\u001b[0;34m\u001b[0m\u001b[0;34m\u001b[0m\u001b[0m\n\u001b[0m\u001b[1;32m     21\u001b[0m \u001b[0msayi2\u001b[0m \u001b[0;34m=\u001b[0m \u001b[0mfloat\u001b[0m\u001b[0;34m(\u001b[0m\u001b[0minput\u001b[0m\u001b[0;34m(\u001b[0m\u001b[0;34m\"İkinci sayı: \"\u001b[0m\u001b[0;34m)\u001b[0m\u001b[0;34m)\u001b[0m\u001b[0;34m\u001b[0m\u001b[0;34m\u001b[0m\u001b[0m\n\u001b[1;32m     22\u001b[0m \u001b[0mislem\u001b[0m \u001b[0;34m=\u001b[0m \u001b[0minput\u001b[0m\u001b[0;34m(\u001b[0m\u001b[0;34m\"İşlem (+, -, *, /): \"\u001b[0m\u001b[0;34m)\u001b[0m\u001b[0;34m\u001b[0m\u001b[0;34m\u001b[0m\u001b[0m\n",
            "\u001b[0;32m/usr/local/lib/python3.12/dist-packages/ipykernel/kernelbase.py\u001b[0m in \u001b[0;36mraw_input\u001b[0;34m(self, prompt)\u001b[0m\n\u001b[1;32m   1175\u001b[0m                 \u001b[0;34m\"raw_input was called, but this frontend does not support input requests.\"\u001b[0m\u001b[0;34m\u001b[0m\u001b[0;34m\u001b[0m\u001b[0m\n\u001b[1;32m   1176\u001b[0m             )\n\u001b[0;32m-> 1177\u001b[0;31m         return self._input_request(\n\u001b[0m\u001b[1;32m   1178\u001b[0m             \u001b[0mstr\u001b[0m\u001b[0;34m(\u001b[0m\u001b[0mprompt\u001b[0m\u001b[0;34m)\u001b[0m\u001b[0;34m,\u001b[0m\u001b[0;34m\u001b[0m\u001b[0;34m\u001b[0m\u001b[0m\n\u001b[1;32m   1179\u001b[0m             \u001b[0mself\u001b[0m\u001b[0;34m.\u001b[0m\u001b[0m_parent_ident\u001b[0m\u001b[0;34m[\u001b[0m\u001b[0;34m\"shell\"\u001b[0m\u001b[0;34m]\u001b[0m\u001b[0;34m,\u001b[0m\u001b[0;34m\u001b[0m\u001b[0;34m\u001b[0m\u001b[0m\n",
            "\u001b[0;32m/usr/local/lib/python3.12/dist-packages/ipykernel/kernelbase.py\u001b[0m in \u001b[0;36m_input_request\u001b[0;34m(self, prompt, ident, parent, password)\u001b[0m\n\u001b[1;32m   1217\u001b[0m             \u001b[0;32mexcept\u001b[0m \u001b[0mKeyboardInterrupt\u001b[0m\u001b[0;34m:\u001b[0m\u001b[0;34m\u001b[0m\u001b[0;34m\u001b[0m\u001b[0m\n\u001b[1;32m   1218\u001b[0m                 \u001b[0;31m# re-raise KeyboardInterrupt, to truncate traceback\u001b[0m\u001b[0;34m\u001b[0m\u001b[0;34m\u001b[0m\u001b[0m\n\u001b[0;32m-> 1219\u001b[0;31m                 \u001b[0;32mraise\u001b[0m \u001b[0mKeyboardInterrupt\u001b[0m\u001b[0;34m(\u001b[0m\u001b[0;34m\"Interrupted by user\"\u001b[0m\u001b[0;34m)\u001b[0m \u001b[0;32mfrom\u001b[0m \u001b[0;32mNone\u001b[0m\u001b[0;34m\u001b[0m\u001b[0;34m\u001b[0m\u001b[0m\n\u001b[0m\u001b[1;32m   1220\u001b[0m             \u001b[0;32mexcept\u001b[0m \u001b[0mException\u001b[0m\u001b[0;34m:\u001b[0m\u001b[0;34m\u001b[0m\u001b[0;34m\u001b[0m\u001b[0m\n\u001b[1;32m   1221\u001b[0m                 \u001b[0mself\u001b[0m\u001b[0;34m.\u001b[0m\u001b[0mlog\u001b[0m\u001b[0;34m.\u001b[0m\u001b[0mwarning\u001b[0m\u001b[0;34m(\u001b[0m\u001b[0;34m\"Invalid Message:\"\u001b[0m\u001b[0;34m,\u001b[0m \u001b[0mexc_info\u001b[0m\u001b[0;34m=\u001b[0m\u001b[0;32mTrue\u001b[0m\u001b[0;34m)\u001b[0m\u001b[0;34m\u001b[0m\u001b[0;34m\u001b[0m\u001b[0m\n",
            "\u001b[0;31mKeyboardInterrupt\u001b[0m: Interrupted by user"
          ]
        }
      ]
    },
    {
      "cell_type": "code",
      "source": [
        "    \"\"\"\n",
        "    ❓ DEĞERLENDİRME SORULARI\n",
        "    \"10\" + 5 işlemi neden hata verir? Nasıl düzeltilir? string+ int olduğu için, int(\"10\") + 5 olmalı\n",
        "\n",
        "    0.1 + 0.2 == 0.3 ifadesi neden False döner? - 0.1 aslında yaklaşık 0.0011.. 0.2 aslında yaklaşık 0.0011.. toplamı 0.3000..4 olur\n",
        "\n",
        "    and ve or operatörlerinin öncelik sırası nedir? and sonra or\n",
        "\n",
        "    input() fonksiyonu neden her zaman string döndürür? karakter olarak görür- sayı olarak kullanmak için int veya float a dönüştürmemiz gerekir\n",
        "    \"\"\""
      ],
      "metadata": {
        "id": "6ZInkHvLhyxo"
      },
      "execution_count": null,
      "outputs": []
    },
    {
      "cell_type": "code",
      "source": [],
      "metadata": {
        "colab": {
          "base_uri": "https://localhost:8080/"
        },
        "id": "Qxk2noo0iGMH",
        "outputId": "fd61b44a-7b48-496d-e4b2-fed8d7cbf025"
      },
      "execution_count": null,
      "outputs": [
        {
          "output_type": "execute_result",
          "data": {
            "text/plain": [
              "True"
            ]
          },
          "metadata": {},
          "execution_count": 12
        }
      ]
    },
    {
      "cell_type": "code",
      "source": [],
      "metadata": {
        "id": "DqeSGL2BiN-v"
      },
      "execution_count": null,
      "outputs": []
    }
  ]
}